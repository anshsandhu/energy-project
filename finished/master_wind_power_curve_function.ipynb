{
 "cells": [
  {
   "cell_type": "code",
   "execution_count": 2,
   "metadata": {},
   "outputs": [
    {
     "name": "stdout",
     "output_type": "stream",
     "text": [
      "enter number 22\n"
     ]
    },
    {
     "data": {
      "image/png": "[encoded data removed]",
      "text/plain": [
       "<Figure size 432x288 with 1 Axes>"
      ]
     },
     "metadata": {
      "needs_background": "light"
     },
     "output_type": "display_data"
    },
    {
     "name": "stdout",
     "output_type": "stream",
     "text": [
      "[117.94564738]\n"
     ]
    }
   ],
   "source": [
    "def wind_turbine(x):\n",
    "        # Importing the libraries\n",
    "    import numpy as np\n",
    "    import matplotlib.pyplot as plt\n",
    "    import pandas as pd\n",
    "    from sklearn.linear_model import LinearRegression\n",
    "\n",
    "    # Importing the dataset\n",
    "    dataset = pd.read_csv('Book1.csv')\n",
    "    X = dataset.iloc[:, 0].values.reshape(-1,1)\n",
    "    y = dataset.iloc[:, 4].values\n",
    "\n",
    "\n",
    "    # Training the Polynomial Regression model on the whole dataset\n",
    "    from sklearn.preprocessing import PolynomialFeatures\n",
    "    poly_reg = PolynomialFeatures(degree = 10)\n",
    "    X_poly = poly_reg.fit_transform(X)\n",
    "    lin_reg_2 = LinearRegression()\n",
    "    lin_reg_2.fit(X_poly, y)\n",
    "\n",
    "\n",
    "\n",
    "    # Visualising the Polynomial Regression results\n",
    "    plt.scatter(X, y, color = 'red')\n",
    "    plt.plot(X, lin_reg_2.predict(poly_reg.fit_transform(X)), color = 'blue')\n",
    "    plt.title('(Polynomial Regression)')\n",
    "    plt.xlabel('wind speed')\n",
    "    plt.ylabel('power')\n",
    "    plt.show()\n",
    "\n",
    "\n",
    "    # Predicting a new result with Polynomial Regression\n",
    "    if x<=20.5:\n",
    "        print(lin_reg_2.predict(poly_reg.fit_transform([[x]])))\n",
    "    else:\n",
    "        print(lin_reg_2.predict(poly_reg.fit_transform([[20.5]])))\n",
    "\n",
    "x=float(input(\"enter number \"))\n",
    "wind_turbine(x)"
   ]
  },
  {
   "attachments": {},
   "cell_type": "markdown",
   "metadata": {},
   "source": [
    "AWT-26"
   ]
  },
  {
   "cell_type": "code",
   "execution_count": null,
   "metadata": {},
   "outputs": [],
   "source": [
    "def wind_turbine_AWT26(x):\n",
    "        # Importing the libraries\n",
    "    import numpy as np\n",
    "    import matplotlib.pyplot as plt\n",
    "    import pandas as pd\n",
    "    from sklearn.linear_model import LinearRegression\n",
    "\n",
    "    # Importing the dataset\n",
    "    dataset = pd.read_csv('Book1.csv')\n",
    "    X = dataset.iloc[:, 0].values.reshape(-1,1)\n",
    "    y = dataset.iloc[:, 1].values\n",
    "\n",
    "\n",
    "    # Training the Polynomial Regression model on the whole dataset\n",
    "    from sklearn.preprocessing import PolynomialFeatures\n",
    "    poly_reg = PolynomialFeatures(degree = 10)\n",
    "    X_poly = poly_reg.fit_transform(X)\n",
    "    lin_reg_2 = LinearRegression()\n",
    "    lin_reg_2.fit(X_poly, y)\n",
    "\n",
    "\n",
    "    # Predicting a new result with Polynomial Regression\n",
    "    if x<=20.5:\n",
    "        y = lin_reg_2.predict(poly_reg.fit_transform([[x]]))\n",
    "    \n",
    "    else:\n",
    "        y = lin_reg_2.predict(poly_reg.fit_transform([[20.5]]))\n",
    "        \n",
    "    return(y)\n"
   ]
  },
  {
   "attachments": {},
   "cell_type": "markdown",
   "metadata": {},
   "source": [
    "AWP 200/23"
   ]
  },
  {
   "cell_type": "code",
   "execution_count": null,
   "metadata": {},
   "outputs": [],
   "source": [
    "def wind_turbine_AWP200(x):\n",
    "        # Importing the libraries\n",
    "    import numpy as np\n",
    "    import matplotlib.pyplot as plt\n",
    "    import pandas as pd\n",
    "    from sklearn.linear_model import LinearRegression\n",
    "\n",
    "    # Importing the dataset\n",
    "    dataset = pd.read_csv('Book1.csv')\n",
    "    X = dataset.iloc[:, 0].values.reshape(-1,1)\n",
    "    y = dataset.iloc[:, 2].values\n",
    "\n",
    "\n",
    "    # Training the Polynomial Regression model on the whole dataset\n",
    "    from sklearn.preprocessing import PolynomialFeatures\n",
    "    poly_reg = PolynomialFeatures(degree = 10)\n",
    "    X_poly = poly_reg.fit_transform(X)\n",
    "    lin_reg_2 = LinearRegression()\n",
    "    lin_reg_2.fit(X_poly, y)\n",
    "\n",
    "\n",
    "    # Predicting a new result with Polynomial Regression\n",
    "    if x<=20.5:\n",
    "        y = lin_reg_2.predict(poly_reg.fit_transform([[x]]))\n",
    "    \n",
    "    else:\n",
    "        y = lin_reg_2.predict(poly_reg.fit_transform([[20.5]]))\n",
    "        \n",
    "    return(y)\n"
   ]
  },
  {
   "attachments": {},
   "cell_type": "markdown",
   "metadata": {},
   "source": [
    "D2CF 200"
   ]
  },
  {
   "cell_type": "code",
   "execution_count": null,
   "metadata": {},
   "outputs": [],
   "source": [
    "def wind_turbine_D2CF200(x):\n",
    "        # Importing the libraries\n",
    "    import numpy as np\n",
    "    import matplotlib.pyplot as plt\n",
    "    import pandas as pd\n",
    "    from sklearn.linear_model import LinearRegression\n",
    "\n",
    "    # Importing the dataset\n",
    "    dataset = pd.read_csv('Book1.csv')\n",
    "    X = dataset.iloc[:, 0].values.reshape(-1,1)\n",
    "    y = dataset.iloc[:, 3].values\n",
    "\n",
    "\n",
    "    # Training the Polynomial Regression model on the whole dataset\n",
    "    from sklearn.preprocessing import PolynomialFeatures\n",
    "    poly_reg = PolynomialFeatures(degree = 10)\n",
    "    X_poly = poly_reg.fit_transform(X)\n",
    "    lin_reg_2 = LinearRegression()\n",
    "    lin_reg_2.fit(X_poly, y)\n",
    "\n",
    "\n",
    "    # Predicting a new result with Polynomial Regression\n",
    "    if x<=20.5:\n",
    "        y = lin_reg_2.predict(poly_reg.fit_transform([[x]]))\n",
    "    \n",
    "    else:\n",
    "        y = lin_reg_2.predict(poly_reg.fit_transform([[20.5]]))\n",
    "        \n",
    "    return(y)\n"
   ]
  },
  {
   "attachments": {},
   "cell_type": "markdown",
   "metadata": {},
   "source": [
    "AN Bonus 150/30"
   ]
  },
  {
   "cell_type": "code",
   "execution_count": null,
   "metadata": {},
   "outputs": [],
   "source": [
    "def wind_turbine_ANBONUS150(x):\n",
    "        # Importing the libraries\n",
    "    import numpy as np\n",
    "    import matplotlib.pyplot as plt\n",
    "    import pandas as pd\n",
    "    from sklearn.linear_model import LinearRegression\n",
    "\n",
    "    # Importing the dataset\n",
    "    dataset = pd.read_csv('Book1.csv')\n",
    "    X = dataset.iloc[:, 0].values.reshape(-1,1)\n",
    "    y = dataset.iloc[:, 4].values\n",
    "\n",
    "\n",
    "    # Training the Polynomial Regression model on the whole dataset\n",
    "    from sklearn.preprocessing import PolynomialFeatures\n",
    "    poly_reg = PolynomialFeatures(degree = 10)\n",
    "    X_poly = poly_reg.fit_transform(X)\n",
    "    lin_reg_2 = LinearRegression()\n",
    "    lin_reg_2.fit(X_poly, y)\n",
    "\n",
    "\n",
    "    # Predicting a new result with Polynomial Regression\n",
    "    if x<=20.5:\n",
    "        y = lin_reg_2.predict(poly_reg.fit_transform([[x]]))\n",
    "    \n",
    "    else:\n",
    "        y = lin_reg_2.predict(poly_reg.fit_transform([[20.5]]))\n",
    "        \n",
    "    return(y)\n"
   ]
  },
  {
   "attachments": {},
   "cell_type": "markdown",
   "metadata": {},
   "source": [
    "Aria 20"
   ]
  },
  {
   "cell_type": "code",
   "execution_count": null,
   "metadata": {},
   "outputs": [],
   "source": [
    "def wind_turbine_ARIA20(x):\n",
    "        # Importing the libraries\n",
    "    import numpy as np\n",
    "    import matplotlib.pyplot as plt\n",
    "    import pandas as pd\n",
    "    from sklearn.linear_model import LinearRegression\n",
    "\n",
    "    # Importing the dataset\n",
    "    dataset = pd.read_csv('Book1.csv')\n",
    "    X = dataset.iloc[:, 0].values.reshape(-1,1)\n",
    "    y = dataset.iloc[:, 5].values\n",
    "\n",
    "\n",
    "    # Training the Polynomial Regression model on the whole dataset\n",
    "    from sklearn.preprocessing import PolynomialFeatures\n",
    "    poly_reg = PolynomialFeatures(degree = 10)\n",
    "    X_poly = poly_reg.fit_transform(X)\n",
    "    lin_reg_2 = LinearRegression()\n",
    "    lin_reg_2.fit(X_poly, y)\n",
    "\n",
    "\n",
    "    # Predicting a new result with Polynomial Regression\n",
    "    if x<=20.5:\n",
    "        y = lin_reg_2.predict(poly_reg.fit_transform([[x]]))\n",
    "    \n",
    "    else:\n",
    "        y = lin_reg_2.predict(poly_reg.fit_transform([[20.5]]))\n",
    "        \n",
    "    return(y)\n"
   ]
  },
  {
   "attachments": {},
   "cell_type": "markdown",
   "metadata": {},
   "source": [
    "WWD-1 D64"
   ]
  },
  {
   "cell_type": "code",
   "execution_count": null,
   "metadata": {},
   "outputs": [],
   "source": [
    "def wind_turbine_WWD(x):\n",
    "        # Importing the libraries\n",
    "    import numpy as np\n",
    "    import matplotlib.pyplot as plt\n",
    "    import pandas as pd\n",
    "    from sklearn.linear_model import LinearRegression\n",
    "\n",
    "    # Importing the dataset\n",
    "    dataset = pd.read_csv('Book1.csv')\n",
    "    X = dataset.iloc[:, 0].values.reshape(-1,1)\n",
    "    y = dataset.iloc[:, 6].values\n",
    "\n",
    "\n",
    "    # Training the Polynomial Regression model on the whole dataset\n",
    "    from sklearn.preprocessing import PolynomialFeatures\n",
    "    poly_reg = PolynomialFeatures(degree = 10)\n",
    "    X_poly = poly_reg.fit_transform(X)\n",
    "    lin_reg_2 = LinearRegression()\n",
    "    lin_reg_2.fit(X_poly, y)\n",
    "\n",
    "\n",
    "    # Predicting a new result with Polynomial Regression\n",
    "    if x<=20.5:\n",
    "        y = lin_reg_2.predict(poly_reg.fit_transform([[x]]))\n",
    "    \n",
    "    else:\n",
    "        y = lin_reg_2.predict(poly_reg.fit_transform([[20.5]]))\n",
    "        \n",
    "    return(y)\n"
   ]
  }
 ],
 "metadata": {
  "kernelspec": {
   "display_name": "Python 3",
   "language": "python",
   "name": "python3"
  },
  "language_info": {
   "codemirror_mode": {
    "name": "ipython",
    "version": 3
   },
   "file_extension": ".py",
   "mimetype": "text/x-python",
   "name": "python",
   "nbconvert_exporter": "python",
   "pygments_lexer": "ipython3",
   "version": "3.8.5"
  }
 },
 "nbformat": 4,
 "nbformat_minor": 4
}
