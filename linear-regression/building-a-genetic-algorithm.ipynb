{
 "cells": [
  {
   "cell_type": "code",
   "execution_count": 103,
   "metadata": {},
   "outputs": [],
   "source": [
    "import numpy as np\n",
    "import pandas as pd\n"
   ]
  },
  {
   "cell_type": "code",
   "execution_count": 104,
   "metadata": {},
   "outputs": [],
   "source": [
    "x1 = np.random.randint(100,size=(20))\n",
    "x2 = np.random.randint(100,size=(20))\n",
    "x3 = np.random.randint(100,size=(20))\n",
    "\n",
    "\n",
    "y1 = 2*x1 + 3*x2 + 4*x3\n",
    "\n",
    "y2 = 7*x1 - 2*x2 + x3"
   ]
  },
  {
   "cell_type": "code",
   "execution_count": 105,
   "metadata": {},
   "outputs": [],
   "source": [
    "XX1 =  {'col1': x1, 'col2': x2, 'col3': x3}\n",
    "XX1 = pd.DataFrame(data= XX1)\n",
    "XX1_numpy = XX1.to_numpy()\n",
    "\n",
    "YY1 = {'col1': y1 }\n",
    "YY1 = pd.DataFrame(data= YY1)\n",
    "YY1_numpy = YY1.to_numpy()\n",
    "\n",
    "YY2 = {'col1': y2 }\n",
    "YY2 = pd.DataFrame(data= YY2)"
   ]
  },
  {
   "cell_type": "code",
   "execution_count": 106,
   "metadata": {},
   "outputs": [
    {
     "data": {
      "text/html": [
       "<div>\n",
       "<style scoped>\n",
       "    .dataframe tbody tr th:only-of-type {\n",
       "        vertical-align: middle;\n",
       "    }\n",
       "\n",
       "    .dataframe tbody tr th {\n",
       "        vertical-align: top;\n",
       "    }\n",
       "\n",
       "    .dataframe thead th {\n",
       "        text-align: right;\n",
       "    }\n",
       "</style>\n",
       "<table border=\"1\" class=\"dataframe\">\n",
       "  <thead>\n",
       "    <tr style=\"text-align: right;\">\n",
       "      <th></th>\n",
       "      <th>col1</th>\n",
       "    </tr>\n",
       "  </thead>\n",
       "  <tbody>\n",
       "    <tr>\n",
       "      <th>0</th>\n",
       "      <td>607</td>\n",
       "    </tr>\n",
       "    <tr>\n",
       "      <th>1</th>\n",
       "      <td>393</td>\n",
       "    </tr>\n",
       "    <tr>\n",
       "      <th>2</th>\n",
       "      <td>530</td>\n",
       "    </tr>\n",
       "    <tr>\n",
       "      <th>3</th>\n",
       "      <td>-69</td>\n",
       "    </tr>\n",
       "    <tr>\n",
       "      <th>4</th>\n",
       "      <td>324</td>\n",
       "    </tr>\n",
       "    <tr>\n",
       "      <th>5</th>\n",
       "      <td>664</td>\n",
       "    </tr>\n",
       "    <tr>\n",
       "      <th>6</th>\n",
       "      <td>437</td>\n",
       "    </tr>\n",
       "    <tr>\n",
       "      <th>7</th>\n",
       "      <td>203</td>\n",
       "    </tr>\n",
       "    <tr>\n",
       "      <th>8</th>\n",
       "      <td>542</td>\n",
       "    </tr>\n",
       "    <tr>\n",
       "      <th>9</th>\n",
       "      <td>-111</td>\n",
       "    </tr>\n",
       "    <tr>\n",
       "      <th>10</th>\n",
       "      <td>211</td>\n",
       "    </tr>\n",
       "    <tr>\n",
       "      <th>11</th>\n",
       "      <td>332</td>\n",
       "    </tr>\n",
       "    <tr>\n",
       "      <th>12</th>\n",
       "      <td>158</td>\n",
       "    </tr>\n",
       "    <tr>\n",
       "      <th>13</th>\n",
       "      <td>647</td>\n",
       "    </tr>\n",
       "    <tr>\n",
       "      <th>14</th>\n",
       "      <td>345</td>\n",
       "    </tr>\n",
       "    <tr>\n",
       "      <th>15</th>\n",
       "      <td>-5</td>\n",
       "    </tr>\n",
       "    <tr>\n",
       "      <th>16</th>\n",
       "      <td>459</td>\n",
       "    </tr>\n",
       "    <tr>\n",
       "      <th>17</th>\n",
       "      <td>557</td>\n",
       "    </tr>\n",
       "    <tr>\n",
       "      <th>18</th>\n",
       "      <td>-62</td>\n",
       "    </tr>\n",
       "    <tr>\n",
       "      <th>19</th>\n",
       "      <td>-47</td>\n",
       "    </tr>\n",
       "  </tbody>\n",
       "</table>\n",
       "</div>"
      ],
      "text/plain": [
       "    col1\n",
       "0    607\n",
       "1    393\n",
       "2    530\n",
       "3    -69\n",
       "4    324\n",
       "5    664\n",
       "6    437\n",
       "7    203\n",
       "8    542\n",
       "9   -111\n",
       "10   211\n",
       "11   332\n",
       "12   158\n",
       "13   647\n",
       "14   345\n",
       "15    -5\n",
       "16   459\n",
       "17   557\n",
       "18   -62\n",
       "19   -47"
      ]
     },
     "execution_count": 106,
     "metadata": {},
     "output_type": "execute_result"
    }
   ],
   "source": [
    "YY2"
   ]
  },
  {
   "cell_type": "code",
   "execution_count": 107,
   "metadata": {},
   "outputs": [],
   "source": [
    "input = XX1"
   ]
  },
  {
   "cell_type": "code",
   "execution_count": 108,
   "metadata": {},
   "outputs": [],
   "source": [
    "weights_size = len(input.iloc[0])\n",
    "solutions_per_problem = 10\n",
    "\n",
    "pop_size = (solutions_per_problem, weights_size)\n",
    "new_population = np.random.randint(low = 1, high= 5, size = pop_size)"
   ]
  },
  {
   "cell_type": "code",
   "execution_count": 109,
   "metadata": {},
   "outputs": [
    {
     "data": {
      "text/plain": [
       "array([[1, 2, 2],\n",
       "       [4, 2, 2],\n",
       "       [1, 2, 2],\n",
       "       [3, 2, 2],\n",
       "       [3, 1, 4],\n",
       "       [2, 3, 4],\n",
       "       [2, 2, 2],\n",
       "       [3, 3, 1],\n",
       "       [3, 4, 2],\n",
       "       [4, 1, 1],\n",
       "       [4, 3, 2],\n",
       "       [3, 2, 2],\n",
       "       [1, 1, 2],\n",
       "       [1, 4, 3],\n",
       "       [1, 3, 1],\n",
       "       [2, 2, 4],\n",
       "       [4, 1, 1],\n",
       "       [4, 2, 1],\n",
       "       [4, 2, 2],\n",
       "       [1, 1, 3],\n",
       "       [4, 4, 3],\n",
       "       [4, 2, 3],\n",
       "       [1, 4, 2],\n",
       "       [1, 4, 3],\n",
       "       [3, 2, 2],\n",
       "       [4, 4, 2],\n",
       "       [2, 1, 3],\n",
       "       [4, 2, 4],\n",
       "       [1, 2, 4],\n",
       "       [3, 3, 4]])"
      ]
     },
     "execution_count": 109,
     "metadata": {},
     "output_type": "execute_result"
    }
   ],
   "source": [
    "new_population"
   ]
  },
  {
   "cell_type": "code",
   "execution_count": 110,
   "metadata": {},
   "outputs": [],
   "source": [
    "# defining the starting constraints:\n",
    "\n",
    "num_generations = 5\n",
    "\n",
    "num_parents_mating = 4\n",
    "\n",
    "sol_per_pop = 8\n",
    "\n",
    "\n",
    "\n",
    "pop_size = (sol_per_pop,num_weights)\n"
   ]
  },
  {
   "cell_type": "code",
   "execution_count": 111,
   "metadata": {},
   "outputs": [
    {
     "data": {
      "text/plain": [
       "array([-4230., -1686., -4230., -2170., -1460.,     0., -3200., -2155.,\n",
       "        -878., -3331., -1258., -2170., -5308., -1265., -4213., -1078.,\n",
       "       -3331., -2377., -1686., -4247., -2077., -1317., -2224., -1265.,\n",
       "       -2170., -1432., -3217., -1612., -2108., -1030.])"
      ]
     },
     "execution_count": 111,
     "metadata": {},
     "output_type": "execute_result"
    }
   ],
   "source": [
    "# fitness of each population:\n",
    "\n",
    "fitness = np.empty(new_population.shape[0])\n",
    "\n",
    "def cal_pop_fitness(target_dataframe, electricity_values, pop):\n",
    "    # Calculating the fitness value of each solution in the current population.\n",
    "    # The fitness function calculates the sum of products between each input and its corresponding weight.\n",
    "    generated_electricity = np.sum(pop*electricity_values, axis=1);\n",
    "    required_electricity =  target_dataframe['col1']\n",
    "    error = required_electricity - generated_electricity\n",
    "    error = error.abs()\n",
    "    error = error.sum()\n",
    "    fitness = -error\n",
    "    \n",
    "    return fitness\n",
    "\n",
    "\n",
    "for i in range(len(new_population)):\n",
    "    fitness[i] = cal_pop_fitness(YY1, XX1, new_population[i])\n",
    "\n",
    "fitness"
   ]
  },
  {
   "cell_type": "code",
   "execution_count": 112,
   "metadata": {},
   "outputs": [
    {
     "data": {
      "text/plain": [
       "3"
      ]
     },
     "execution_count": 112,
     "metadata": {},
     "output_type": "execute_result"
    }
   ],
   "source": [
    "new_population.shape[1]"
   ]
  },
  {
   "cell_type": "code",
   "execution_count": 113,
   "metadata": {},
   "outputs": [
    {
     "data": {
      "text/plain": [
       "array([[1., 2., 2.],\n",
       "       [4., 2., 2.],\n",
       "       [1., 2., 2.],\n",
       "       [3., 2., 2.],\n",
       "       [3., 1., 4.]])"
      ]
     },
     "execution_count": 113,
     "metadata": {},
     "output_type": "execute_result"
    }
   ],
   "source": [
    "# Select the best parents for mating process:\n",
    "\n",
    "number_of_parents = 5\n",
    "pop = new_population\n",
    "\n",
    "parents = np.empty((number_of_parents, new_population.shape[1]))\n",
    "\n",
    "for instance in range(number_of_parents):\n",
    "    max_index = np.where(fitness == np.max(fitness))\n",
    "    max_index = max_index[0][0]\n",
    "    parents[instance, :] = pop[instance, :]\n",
    "    fitness[max_index] = -9999\n",
    "\n",
    "parents"
   ]
  },
  {
   "cell_type": "code",
   "execution_count": 125,
   "metadata": {},
   "outputs": [
    {
     "data": {
      "text/plain": [
       "array([[1., 2., 2.],\n",
       "       [4., 2., 2.],\n",
       "       [1., 2., 2.],\n",
       "       [3., 1., 4.],\n",
       "       [3., 2., 2.],\n",
       "       [1., 2., 2.],\n",
       "       [4., 2., 2.],\n",
       "       [1., 2., 2.],\n",
       "       [3., 1., 4.],\n",
       "       [3., 2., 2.],\n",
       "       [1., 2., 2.],\n",
       "       [4., 2., 2.],\n",
       "       [1., 2., 2.],\n",
       "       [3., 1., 4.],\n",
       "       [3., 2., 2.],\n",
       "       [1., 2., 2.],\n",
       "       [4., 2., 2.],\n",
       "       [1., 2., 2.],\n",
       "       [3., 1., 4.],\n",
       "       [3., 2., 2.],\n",
       "       [1., 2., 2.],\n",
       "       [4., 2., 2.],\n",
       "       [1., 2., 2.],\n",
       "       [3., 1., 4.],\n",
       "       [3., 2., 2.]])"
      ]
     },
     "execution_count": 125,
     "metadata": {},
     "output_type": "execute_result"
    }
   ],
   "source": [
    "def crossover(parents, offspring_size):\n",
    "    offspring = np.empty(offspring_size)\n",
    "    # The point at which crossover takes place between two parents. Usually, it is at the center.\n",
    "    crossover_point = np.uint8(offspring_size[1]/2)\n",
    " \n",
    "    for k in range(offspring_size[0]):\n",
    "        # Index of the first parent to mate.\n",
    "        parent1_idx = k%parents.shape[0]\n",
    "        # Index of the second parent to mate.\n",
    "        parent2_idx = (k+1)%parents.shape[0]\n",
    "        # The new offspring will have its first half of its genes taken from the first parent.\n",
    "        offspring[k, 0:crossover_point] = parents[parent1_idx, 0:crossover_point]\n",
    "        # The new offspring will have its second half of its genes taken from the second parent.\n",
    "        offspring[k, crossover_point:] = parents[parent2_idx, crossover_point:]\n",
    "    return offspring\n",
    "\n",
    "\n",
    "\n",
    "\n",
    "\n",
    "\n",
    "offspring_size = (pop_size[0]-parents.shape[0], weights_size)\n",
    "\n",
    "\n",
    "crossover(parents, offspring_size)"
   ]
  },
  {
   "cell_type": "code",
   "execution_count": 126,
   "metadata": {},
   "outputs": [
    {
     "data": {
      "text/plain": [
       "array([[1., 2., 2.],\n",
       "       [4., 2., 2.],\n",
       "       [1., 2., 2.],\n",
       "       [3., 1., 4.],\n",
       "       [3., 2., 2.],\n",
       "       [1., 2., 2.],\n",
       "       [4., 2., 2.],\n",
       "       [1., 2., 2.],\n",
       "       [3., 1., 4.],\n",
       "       [3., 2., 2.],\n",
       "       [1., 2., 2.],\n",
       "       [4., 2., 2.],\n",
       "       [1., 2., 2.],\n",
       "       [3., 1., 4.],\n",
       "       [3., 2., 2.],\n",
       "       [1., 2., 2.],\n",
       "       [4., 2., 2.],\n",
       "       [1., 2., 2.],\n",
       "       [3., 1., 4.],\n",
       "       [3., 2., 2.],\n",
       "       [1., 2., 2.],\n",
       "       [4., 2., 2.],\n",
       "       [1., 2., 2.],\n",
       "       [3., 1., 4.],\n",
       "       [3., 2., 2.]])"
      ]
     },
     "execution_count": 126,
     "metadata": {},
     "output_type": "execute_result"
    }
   ],
   "source": [
    "offspring"
   ]
  },
  {
   "cell_type": "code",
   "execution_count": 127,
   "metadata": {},
   "outputs": [
    {
     "data": {
      "text/plain": [
       "array([[1, 2, 2],\n",
       "       [4, 2, 2],\n",
       "       [1, 2, 2],\n",
       "       [3, 2, 2],\n",
       "       [3, 1, 4],\n",
       "       [2, 3, 4],\n",
       "       [2, 2, 2],\n",
       "       [3, 3, 1],\n",
       "       [3, 4, 2],\n",
       "       [4, 1, 1],\n",
       "       [4, 3, 2],\n",
       "       [3, 2, 2],\n",
       "       [1, 1, 2],\n",
       "       [1, 4, 3],\n",
       "       [1, 3, 1],\n",
       "       [2, 2, 4],\n",
       "       [4, 1, 1],\n",
       "       [4, 2, 1],\n",
       "       [4, 2, 2],\n",
       "       [1, 1, 3],\n",
       "       [4, 4, 3],\n",
       "       [4, 2, 3],\n",
       "       [1, 4, 2],\n",
       "       [1, 4, 3],\n",
       "       [3, 2, 2],\n",
       "       [4, 4, 2],\n",
       "       [2, 1, 3],\n",
       "       [4, 2, 4],\n",
       "       [1, 2, 4],\n",
       "       [3, 3, 4]])"
      ]
     },
     "execution_count": 127,
     "metadata": {},
     "output_type": "execute_result"
    }
   ],
   "source": [
    "new_population"
   ]
  },
  {
   "cell_type": "code",
   "execution_count": 62,
   "metadata": {},
   "outputs": [
    {
     "ename": "ValueError",
     "evalue": "Unable to coerce to DataFrame, shape must be (20, 3): given (10, 3)",
     "output_type": "error",
     "traceback": [
      "\u001b[0;31m---------------------------------------------------------------------------\u001b[0m",
      "\u001b[0;31mValueError\u001b[0m                                Traceback (most recent call last)",
      "\u001b[0;32m<ipython-input-62-3d51bfdc4db9>\u001b[0m in \u001b[0;36m<module>\u001b[0;34m\u001b[0m\n\u001b[1;32m      4\u001b[0m \u001b[0;32mfor\u001b[0m \u001b[0mgeneration\u001b[0m \u001b[0;32min\u001b[0m \u001b[0mrange\u001b[0m\u001b[0;34m(\u001b[0m\u001b[0mnum_generations\u001b[0m\u001b[0;34m)\u001b[0m\u001b[0;34m:\u001b[0m\u001b[0;34m\u001b[0m\u001b[0;34m\u001b[0m\u001b[0m\n\u001b[1;32m      5\u001b[0m      \u001b[0;31m# Measuring the fitness of each chromosome in the population.\u001b[0m\u001b[0;34m\u001b[0m\u001b[0;34m\u001b[0m\u001b[0;34m\u001b[0m\u001b[0m\n\u001b[0;32m----> 6\u001b[0;31m     \u001b[0mfitness\u001b[0m \u001b[0;34m=\u001b[0m \u001b[0mcal_pop_fitness\u001b[0m\u001b[0;34m(\u001b[0m\u001b[0mYY1\u001b[0m\u001b[0;34m,\u001b[0m \u001b[0mXX1\u001b[0m\u001b[0;34m,\u001b[0m \u001b[0mnew_population\u001b[0m\u001b[0;34m)\u001b[0m\u001b[0;34m\u001b[0m\u001b[0;34m\u001b[0m\u001b[0m\n\u001b[0m\u001b[1;32m      7\u001b[0m     \u001b[0;31m# Selecting the best parents in the population for mating.\u001b[0m\u001b[0;34m\u001b[0m\u001b[0;34m\u001b[0m\u001b[0;34m\u001b[0m\u001b[0m\n\u001b[1;32m      8\u001b[0m     parents = select_mating_pool(new_population, fitness, \n",
      "\u001b[0;32m<ipython-input-53-639d9bb1e70c>\u001b[0m in \u001b[0;36mcal_pop_fitness\u001b[0;34m(target_dataframe, electricity_values, pop)\u001b[0m\n\u001b[1;32m      2\u001b[0m     \u001b[0;31m# Calculating the fitness value of each solution in the current population.\u001b[0m\u001b[0;34m\u001b[0m\u001b[0;34m\u001b[0m\u001b[0;34m\u001b[0m\u001b[0m\n\u001b[1;32m      3\u001b[0m     \u001b[0;31m# The fitness function calculates the sum of products between each input and its corresponding weight.\u001b[0m\u001b[0;34m\u001b[0m\u001b[0;34m\u001b[0m\u001b[0;34m\u001b[0m\u001b[0m\n\u001b[0;32m----> 4\u001b[0;31m     \u001b[0mgenerated_electricity\u001b[0m \u001b[0;34m=\u001b[0m \u001b[0mnp\u001b[0m\u001b[0;34m.\u001b[0m\u001b[0msum\u001b[0m\u001b[0;34m(\u001b[0m\u001b[0mpop\u001b[0m\u001b[0;34m*\u001b[0m\u001b[0melectricity_values\u001b[0m\u001b[0;34m,\u001b[0m \u001b[0maxis\u001b[0m\u001b[0;34m=\u001b[0m\u001b[0;36m1\u001b[0m\u001b[0;34m)\u001b[0m\u001b[0;34m;\u001b[0m\u001b[0;34m\u001b[0m\u001b[0;34m\u001b[0m\u001b[0m\n\u001b[0m\u001b[1;32m      5\u001b[0m     \u001b[0mrequired_electricity\u001b[0m \u001b[0;34m=\u001b[0m  \u001b[0mtarget_dataframe\u001b[0m\u001b[0;34m[\u001b[0m\u001b[0;34m'col1'\u001b[0m\u001b[0;34m]\u001b[0m\u001b[0;34m\u001b[0m\u001b[0;34m\u001b[0m\u001b[0m\n\u001b[1;32m      6\u001b[0m     \u001b[0merror\u001b[0m \u001b[0;34m=\u001b[0m \u001b[0mrequired_electricity\u001b[0m \u001b[0;34m-\u001b[0m \u001b[0mgenerated_electricity\u001b[0m\u001b[0;34m\u001b[0m\u001b[0;34m\u001b[0m\u001b[0m\n",
      "\u001b[0;32m~/opt/anaconda3/envs/columbia-coursework/lib/python3.8/site-packages/pandas/core/ops/__init__.py\u001b[0m in \u001b[0;36mf\u001b[0;34m(self, other, axis, level, fill_value)\u001b[0m\n\u001b[1;32m    645\u001b[0m         \u001b[0;31m# TODO: why are we passing flex=True instead of flex=not special?\u001b[0m\u001b[0;34m\u001b[0m\u001b[0;34m\u001b[0m\u001b[0;34m\u001b[0m\u001b[0m\n\u001b[1;32m    646\u001b[0m         \u001b[0;31m#  15 tests fail if we pass flex=not special instead\u001b[0m\u001b[0;34m\u001b[0m\u001b[0;34m\u001b[0m\u001b[0;34m\u001b[0m\u001b[0m\n\u001b[0;32m--> 647\u001b[0;31m         \u001b[0mself\u001b[0m\u001b[0;34m,\u001b[0m \u001b[0mother\u001b[0m \u001b[0;34m=\u001b[0m \u001b[0m_align_method_FRAME\u001b[0m\u001b[0;34m(\u001b[0m\u001b[0mself\u001b[0m\u001b[0;34m,\u001b[0m \u001b[0mother\u001b[0m\u001b[0;34m,\u001b[0m \u001b[0maxis\u001b[0m\u001b[0;34m,\u001b[0m \u001b[0mflex\u001b[0m\u001b[0;34m=\u001b[0m\u001b[0;32mTrue\u001b[0m\u001b[0;34m,\u001b[0m \u001b[0mlevel\u001b[0m\u001b[0;34m=\u001b[0m\u001b[0mlevel\u001b[0m\u001b[0;34m)\u001b[0m\u001b[0;34m\u001b[0m\u001b[0;34m\u001b[0m\u001b[0m\n\u001b[0m\u001b[1;32m    648\u001b[0m \u001b[0;34m\u001b[0m\u001b[0m\n\u001b[1;32m    649\u001b[0m         \u001b[0;32mif\u001b[0m \u001b[0misinstance\u001b[0m\u001b[0;34m(\u001b[0m\u001b[0mother\u001b[0m\u001b[0;34m,\u001b[0m \u001b[0mABCDataFrame\u001b[0m\u001b[0;34m)\u001b[0m\u001b[0;34m:\u001b[0m\u001b[0;34m\u001b[0m\u001b[0;34m\u001b[0m\u001b[0m\n",
      "\u001b[0;32m~/opt/anaconda3/envs/columbia-coursework/lib/python3.8/site-packages/pandas/core/ops/__init__.py\u001b[0m in \u001b[0;36m_align_method_FRAME\u001b[0;34m(left, right, axis, flex, level)\u001b[0m\n\u001b[1;32m    488\u001b[0m \u001b[0;34m\u001b[0m\u001b[0m\n\u001b[1;32m    489\u001b[0m             \u001b[0;32melse\u001b[0m\u001b[0;34m:\u001b[0m\u001b[0;34m\u001b[0m\u001b[0;34m\u001b[0m\u001b[0m\n\u001b[0;32m--> 490\u001b[0;31m                 raise ValueError(\n\u001b[0m\u001b[1;32m    491\u001b[0m                     \u001b[0;34m\"Unable to coerce to DataFrame, shape \"\u001b[0m\u001b[0;34m\u001b[0m\u001b[0;34m\u001b[0m\u001b[0m\n\u001b[1;32m    492\u001b[0m                     \u001b[0;34mf\"must be {left.shape}: given {right.shape}\"\u001b[0m\u001b[0;34m\u001b[0m\u001b[0;34m\u001b[0m\u001b[0m\n",
      "\u001b[0;31mValueError\u001b[0m: Unable to coerce to DataFrame, shape must be (20, 3): given (10, 3)"
     ]
    }
   ],
   "source": [
    "num_generations = 5\n",
    "\n",
    "num_parents_mating = 4\n",
    "for generation in range(num_generations):\n",
    "     # Measuring the fitness of each chromosome in the population.\n",
    "    fitness = cal_pop_fitness(equation_inputs, new_population)\n",
    "    # Selecting the best parents in the population for mating.\n",
    "    parents = select_mating_pool(new_population, fitness, \n",
    "                                       num_parents_mating)\n",
    " \n",
    "     # Generating next generation using crossover.\n",
    "    offspring_crossover = crossover(parents,\n",
    "                                        offspring_size=(pop_size[0]-parents.shape[0], num_weights))\n",
    " \n",
    "     # Adding some variations to the offsrping using mutation.\n",
    "    offspring_mutation = mutation(offspring_crossover)\n",
    "# Creating the new population based on the parents and offspring.\n",
    "    new_population[0:parents.shape[0], :] = parents\n",
    "    new_population[parents.shape[0]:, :] = offspring_mutation"
   ]
  },
  {
   "cell_type": "code",
   "execution_count": 63,
   "metadata": {},
   "outputs": [],
   "source": [
    "def cal_pop_fitness(target_dataframe, electricity_values, pop):\n",
    "    # Calculating the fitness value of each solution in the current population.\n",
    "    # The fitness function calculates the sum of products between each input and its corresponding weight.\n",
    "    generated_electricity = np.sum(pop*electricity_values, axis=1);\n",
    "    required_electricity =  target_dataframe['col1']\n",
    "    error = required_electricity - generated_electricity\n",
    "    error = error.abs()\n",
    "    error = error.sum()\n",
    "    fitness = -error\n",
    "    \n",
    "    return fitness\n",
    "\n",
    "\n",
    "def select_mating_pool(pop, fitness, num_parents_mating):\n",
    "    # Selecting the best individuals in the current generation as parents for producing the offspring of the next generation.\n",
    "    parents = np.empty((num_parents_mating, pop.shape[1]))\n",
    "    for parent_num in range(num_parents_mating):\n",
    "        \n",
    "        max_fitness_idx = np.where(fitness == np.max(fitness))\n",
    "\n",
    "        max_fitness_idx = max_fitness_idx[0][0]\n",
    "\n",
    "        parents[parent_num, :] = pop[max_fitness_idx, :]\n",
    "\n",
    "        fitness[max_fitness_idx] = -9999\n",
    "\n",
    "    return parents\n",
    "\n",
    "def crossover(parents, offspring_size):\n",
    "    offspring = np.empty(offspring_size)\n",
    "    # The point at which crossover takes place between two parents. Usually, it is at the center.\n",
    "    crossover_point = np.uint8(offspring_size[1]/2)\n",
    " \n",
    "    for k in range(offspring_size[0]):\n",
    "        # Index of the first parent to mate.\n",
    "        parent1_idx = k%parents.shape[0]\n",
    "         # Index of the second parent to mate.\n",
    "        parent2_idx = (k+1)%parents.shape[0]\n",
    "         # The new offspring will have its first half of its genes taken from the first parent.\n",
    "        offspring[k, 0:crossover_point] = parents[parent1_idx, 0:crossover_point]\n",
    "         # The new offspring will have its second half of its genes taken from the second parent.\n",
    "        offspring[k, crossover_point:] = parents[parent2_idx, crossover_point:]\n",
    "     \n",
    "    return offspring\n",
    "\n",
    "\n",
    "def mutation(offspring_crossover):\n",
    "\n",
    "    # Mutation changes a single gene in each offspring randomly.\n",
    "\n",
    "    for idx in range(offspring_crossover.shape[0]):\n",
    "\n",
    "        # The random value to be added to the gene.\n",
    "\n",
    "        random_value = np.random.uniform(-1.0, 1.0, 1)\n",
    "\n",
    "        offspring_crossover[idx, 4] = offspring_crossover[idx, 4] + random_value\n",
    "\n",
    "    return offspring_crossover\n"
   ]
  },
  {
   "cell_type": "code",
   "execution_count": 68,
   "metadata": {},
   "outputs": [
    {
     "name": "stdout",
     "output_type": "stream",
     "text": [
      "-2586\n",
      "-1163\n",
      "-819\n",
      "-1249\n",
      "-819\n",
      "-1858\n",
      "-2677\n",
      "-3217\n",
      "-2586\n",
      "-6104\n"
     ]
    }
   ],
   "source": [
    "#cal_pop_fitness(YY1, XX1, new_population)\n",
    "\n",
    "\n",
    "for pop in new_population:\n",
    "    print(cal_pop_fitness(YY1, XX1, pop))\n",
    "\n"
   ]
  },
  {
   "cell_type": "code",
   "execution_count": 14,
   "metadata": {},
   "outputs": [],
   "source": [
    "## https://towardsdatascience.com/genetic-algorithm-implementation-in-python-5ab67bb124a6 "
   ]
  }
 ],
 "metadata": {
  "kernelspec": {
   "display_name": "Python 3",
   "language": "python",
   "name": "python3"
  },
  "language_info": {
   "codemirror_mode": {
    "name": "ipython",
    "version": 3
   },
   "file_extension": ".py",
   "mimetype": "text/x-python",
   "name": "python",
   "nbconvert_exporter": "python",
   "pygments_lexer": "ipython3",
   "version": "3.8.5"
  }
 },
 "nbformat": 4,
 "nbformat_minor": 4
}
