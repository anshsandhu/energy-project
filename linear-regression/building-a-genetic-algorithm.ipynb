{
 "cells": [
  {
   "cell_type": "code",
   "execution_count": 1,
   "metadata": {},
   "outputs": [],
   "source": [
    "import numpy as np\n",
    "import pandas as pd\n"
   ]
  },
  {
   "cell_type": "code",
   "execution_count": 2,
   "metadata": {},
   "outputs": [],
   "source": [
    "x1 = np.random.randint(100,size=(20))\n",
    "x2 = np.random.randint(100,size=(20))\n",
    "x3 = np.random.randint(100,size=(20))\n",
    "\n",
    "\n",
    "y1 = 2*x1 + 3*x2 + 4*x3\n",
    "\n",
    "y2 = 7*x1 - 2*x2 + x3"
   ]
  },
  {
   "cell_type": "code",
   "execution_count": 3,
   "metadata": {},
   "outputs": [],
   "source": [
    "XX1 =  {'col1': x1, 'col2': x2, 'col3': x3}\n",
    "XX1 = pd.DataFrame(data= XX1)\n",
    "XX1_numpy = XX1.to_numpy()\n",
    "\n",
    "YY1 = {'col1': y1 }\n",
    "YY1 = pd.DataFrame(data= YY1)\n",
    "YY1_numpy = YY1.to_numpy()\n",
    "\n",
    "YY2 = {'col1': y2 }\n",
    "YY2 = pd.DataFrame(data= YY2)"
   ]
  },
  {
   "cell_type": "code",
   "execution_count": 4,
   "metadata": {},
   "outputs": [
    {
     "data": {
      "text/html": [
       "<div>\n",
       "<style scoped>\n",
       "    .dataframe tbody tr th:only-of-type {\n",
       "        vertical-align: middle;\n",
       "    }\n",
       "\n",
       "    .dataframe tbody tr th {\n",
       "        vertical-align: top;\n",
       "    }\n",
       "\n",
       "    .dataframe thead th {\n",
       "        text-align: right;\n",
       "    }\n",
       "</style>\n",
       "<table border=\"1\" class=\"dataframe\">\n",
       "  <thead>\n",
       "    <tr style=\"text-align: right;\">\n",
       "      <th></th>\n",
       "      <th>col1</th>\n",
       "    </tr>\n",
       "  </thead>\n",
       "  <tbody>\n",
       "    <tr>\n",
       "      <th>0</th>\n",
       "      <td>540</td>\n",
       "    </tr>\n",
       "    <tr>\n",
       "      <th>1</th>\n",
       "      <td>12</td>\n",
       "    </tr>\n",
       "    <tr>\n",
       "      <th>2</th>\n",
       "      <td>262</td>\n",
       "    </tr>\n",
       "    <tr>\n",
       "      <th>3</th>\n",
       "      <td>451</td>\n",
       "    </tr>\n",
       "    <tr>\n",
       "      <th>4</th>\n",
       "      <td>268</td>\n",
       "    </tr>\n",
       "    <tr>\n",
       "      <th>5</th>\n",
       "      <td>97</td>\n",
       "    </tr>\n",
       "    <tr>\n",
       "      <th>6</th>\n",
       "      <td>400</td>\n",
       "    </tr>\n",
       "    <tr>\n",
       "      <th>7</th>\n",
       "      <td>181</td>\n",
       "    </tr>\n",
       "    <tr>\n",
       "      <th>8</th>\n",
       "      <td>200</td>\n",
       "    </tr>\n",
       "    <tr>\n",
       "      <th>9</th>\n",
       "      <td>271</td>\n",
       "    </tr>\n",
       "    <tr>\n",
       "      <th>10</th>\n",
       "      <td>-64</td>\n",
       "    </tr>\n",
       "    <tr>\n",
       "      <th>11</th>\n",
       "      <td>556</td>\n",
       "    </tr>\n",
       "    <tr>\n",
       "      <th>12</th>\n",
       "      <td>335</td>\n",
       "    </tr>\n",
       "    <tr>\n",
       "      <th>13</th>\n",
       "      <td>490</td>\n",
       "    </tr>\n",
       "    <tr>\n",
       "      <th>14</th>\n",
       "      <td>348</td>\n",
       "    </tr>\n",
       "    <tr>\n",
       "      <th>15</th>\n",
       "      <td>395</td>\n",
       "    </tr>\n",
       "    <tr>\n",
       "      <th>16</th>\n",
       "      <td>275</td>\n",
       "    </tr>\n",
       "    <tr>\n",
       "      <th>17</th>\n",
       "      <td>490</td>\n",
       "    </tr>\n",
       "    <tr>\n",
       "      <th>18</th>\n",
       "      <td>422</td>\n",
       "    </tr>\n",
       "    <tr>\n",
       "      <th>19</th>\n",
       "      <td>481</td>\n",
       "    </tr>\n",
       "  </tbody>\n",
       "</table>\n",
       "</div>"
      ],
      "text/plain": [
       "    col1\n",
       "0    540\n",
       "1     12\n",
       "2    262\n",
       "3    451\n",
       "4    268\n",
       "5     97\n",
       "6    400\n",
       "7    181\n",
       "8    200\n",
       "9    271\n",
       "10   -64\n",
       "11   556\n",
       "12   335\n",
       "13   490\n",
       "14   348\n",
       "15   395\n",
       "16   275\n",
       "17   490\n",
       "18   422\n",
       "19   481"
      ]
     },
     "execution_count": 4,
     "metadata": {},
     "output_type": "execute_result"
    }
   ],
   "source": [
    "YY2"
   ]
  },
  {
   "cell_type": "code",
   "execution_count": 5,
   "metadata": {},
   "outputs": [],
   "source": [
    "input = XX1"
   ]
  },
  {
   "cell_type": "code",
   "execution_count": 6,
   "metadata": {},
   "outputs": [],
   "source": [
    "weights_size = len(input.iloc[0])\n",
    "solutions_per_problem = 30\n",
    "\n",
    "pop_size = (solutions_per_problem, weights_size)\n",
    "new_population = np.random.randint(low = 1, high= 5, size = pop_size)\n",
    "\n",
    "pop_original = new_population"
   ]
  },
  {
   "cell_type": "code",
   "execution_count": 7,
   "metadata": {},
   "outputs": [
    {
     "data": {
      "text/plain": [
       "array([[1, 2, 3],\n",
       "       [3, 2, 4],\n",
       "       [2, 3, 4],\n",
       "       [4, 2, 1],\n",
       "       [1, 4, 2],\n",
       "       [4, 3, 4],\n",
       "       [1, 1, 4],\n",
       "       [1, 3, 3],\n",
       "       [3, 3, 3],\n",
       "       [4, 2, 4],\n",
       "       [1, 3, 3],\n",
       "       [2, 2, 4],\n",
       "       [2, 1, 4],\n",
       "       [4, 4, 1],\n",
       "       [2, 1, 2],\n",
       "       [1, 2, 3],\n",
       "       [2, 1, 2],\n",
       "       [4, 3, 1],\n",
       "       [4, 2, 2],\n",
       "       [4, 3, 1],\n",
       "       [1, 1, 1],\n",
       "       [4, 4, 1],\n",
       "       [3, 2, 2],\n",
       "       [3, 2, 3],\n",
       "       [2, 1, 2],\n",
       "       [1, 3, 1],\n",
       "       [3, 1, 2],\n",
       "       [1, 2, 2],\n",
       "       [2, 2, 4],\n",
       "       [2, 2, 2]])"
      ]
     },
     "execution_count": 7,
     "metadata": {},
     "output_type": "execute_result"
    }
   ],
   "source": [
    "new_population"
   ]
  },
  {
   "cell_type": "code",
   "execution_count": 8,
   "metadata": {},
   "outputs": [
    {
     "data": {
      "text/plain": [
       "array([-3326.,  -534.,     0., -3008., -2358., -2108., -3214., -2246.,\n",
       "        -712., -1340., -2246., -1080., -2160., -1852., -4544., -3326.,\n",
       "       -4544., -2336., -1928., -2336., -6790., -1852., -2496., -1350.,\n",
       "       -4544., -4630., -3540., -4518., -1080., -3464.])"
      ]
     },
     "execution_count": 8,
     "metadata": {},
     "output_type": "execute_result"
    }
   ],
   "source": [
    "# fitness of each population:\n",
    "\n",
    "fitness = np.empty(new_population.shape[0])\n",
    "\n",
    "def cal_pop_fitness(target_dataframe, electricity_values, pop):\n",
    "    # Calculating the fitness value of each solution in the current population.\n",
    "    # The fitness function calculates the sum of products between each input and its corresponding weight.\n",
    "    generated_electricity = np.sum(pop*electricity_values, axis=1);\n",
    "    required_electricity =  target_dataframe['col1']\n",
    "    error = required_electricity - generated_electricity\n",
    "    error = error.abs()\n",
    "    error = error.sum()\n",
    "    fitness = -error\n",
    "    \n",
    "    return fitness\n",
    "\n",
    "\n",
    "for i in range(len(new_population)):\n",
    "    fitness[i] = cal_pop_fitness(YY1, XX1, new_population[i])\n",
    "\n",
    "fitness"
   ]
  },
  {
   "cell_type": "code",
   "execution_count": 9,
   "metadata": {},
   "outputs": [
    {
     "data": {
      "text/plain": [
       "3"
      ]
     },
     "execution_count": 9,
     "metadata": {},
     "output_type": "execute_result"
    }
   ],
   "source": [
    "new_population.shape[1]"
   ]
  },
  {
   "cell_type": "code",
   "execution_count": 10,
   "metadata": {},
   "outputs": [],
   "source": [
    "# Select the best parents for mating process:\n",
    "\n",
    "def select_mating_pool(pop, fitness, number_of_parents):\n",
    "    parents = np.empty((number_of_parents, new_population.shape[1]))\n",
    "\n",
    "    for instance in range(number_of_parents):\n",
    "        max_index = np.where(fitness == np.max(fitness))\n",
    "        max_index = max_index[0][0]\n",
    "        parents[instance, :] = pop[instance, :]\n",
    "        fitness[max_index] = -9999\n",
    "\n",
    "    return parents"
   ]
  },
  {
   "cell_type": "code",
   "execution_count": 11,
   "metadata": {},
   "outputs": [],
   "source": [
    "# The mating process with each parent\n",
    "\n",
    "def crossover(parents, offspring_size):\n",
    "    offspring = np.empty(offspring_size)\n",
    "    # The point at which crossover takes place between two parents. Usually, it is at the center.\n",
    "    crossover_point = np.uint8(offspring_size[1]/2)\n",
    " \n",
    "    for k in range(offspring_size[0]):\n",
    "        # Index of the first parent to mate.\n",
    "        parent1_idx = k%parents.shape[0]\n",
    "        # Index of the second parent to mate.\n",
    "        parent2_idx = (k+1)%parents.shape[0]\n",
    "        # The new offspring will have its first half of its genes taken from the first parent.\n",
    "        offspring[k, 0:crossover_point] = parents[parent1_idx, 0:crossover_point]\n",
    "        # The new offspring will have its second half of its genes taken from the second parent.\n",
    "        offspring[k, crossover_point:] = parents[parent2_idx, crossover_point:]\n",
    "    return offspring\n",
    "\n"
   ]
  },
  {
   "cell_type": "code",
   "execution_count": 12,
   "metadata": {},
   "outputs": [],
   "source": [
    "# Mutations on the offsprings:\n",
    "\n",
    "def mutation(offspring_crossover):\n",
    "    \n",
    "    offspring_operated = offspring_crossover\n",
    "\n",
    "    # Mutation changes a single gene in each offspring randomly.\n",
    "\n",
    "    for idx in range(offspring_operated.shape[0]):\n",
    "\n",
    "        # The random value to be added to the gene.\n",
    "\n",
    "        random_value = np.random.randint(low = -1, high= 1)\n",
    "\n",
    "        offspring_operated[idx, 1] = offspring_operated[idx, 1] + random_value\n",
    "\n",
    "    return offspring_operated\n"
   ]
  },
  {
   "cell_type": "code",
   "execution_count": 13,
   "metadata": {},
   "outputs": [
    {
     "data": {
      "text/plain": [
       "array([[1, 2, 3],\n",
       "       [3, 2, 4],\n",
       "       [2, 3, 4],\n",
       "       [4, 2, 1],\n",
       "       [1, 4, 2],\n",
       "       [4, 3, 4],\n",
       "       [1, 1, 4],\n",
       "       [1, 3, 3],\n",
       "       [3, 3, 3],\n",
       "       [4, 2, 4],\n",
       "       [1, 3, 3],\n",
       "       [2, 2, 4],\n",
       "       [2, 1, 4],\n",
       "       [4, 4, 1],\n",
       "       [2, 1, 2],\n",
       "       [1, 2, 3],\n",
       "       [2, 1, 2],\n",
       "       [4, 3, 1],\n",
       "       [4, 2, 2],\n",
       "       [4, 3, 1],\n",
       "       [1, 1, 1],\n",
       "       [4, 4, 1],\n",
       "       [3, 2, 2],\n",
       "       [3, 2, 3],\n",
       "       [2, 1, 2],\n",
       "       [1, 3, 1],\n",
       "       [3, 1, 2],\n",
       "       [1, 2, 2],\n",
       "       [2, 2, 4],\n",
       "       [2, 2, 2]])"
      ]
     },
     "execution_count": 13,
     "metadata": {},
     "output_type": "execute_result"
    }
   ],
   "source": [
    "new_population"
   ]
  },
  {
   "cell_type": "markdown",
   "metadata": {},
   "source": [
    "https://towardsdatascience.com/genetic-algorithm-implementation-in-python-5ab67bb124a6 "
   ]
  },
  {
   "cell_type": "code",
   "execution_count": 14,
   "metadata": {},
   "outputs": [
    {
     "ename": "NameError",
     "evalue": "name 'ga' is not defined",
     "output_type": "error",
     "traceback": [
      "\u001b[0;31m---------------------------------------------------------------------------\u001b[0m",
      "\u001b[0;31mNameError\u001b[0m                                 Traceback (most recent call last)",
      "\u001b[0;32m<ipython-input-14-55dd8fe5de62>\u001b[0m in \u001b[0;36m<module>\u001b[0;34m\u001b[0m\n\u001b[1;32m     28\u001b[0m \u001b[0;31m# Getting the best solution after iterating finishing all generations.\u001b[0m\u001b[0;34m\u001b[0m\u001b[0;34m\u001b[0m\u001b[0;34m\u001b[0m\u001b[0m\n\u001b[1;32m     29\u001b[0m \u001b[0;31m#At first, the fitness is calculated for each solution in the final generation.\u001b[0m\u001b[0;34m\u001b[0m\u001b[0;34m\u001b[0m\u001b[0;34m\u001b[0m\u001b[0m\n\u001b[0;32m---> 30\u001b[0;31m \u001b[0mfitness\u001b[0m \u001b[0;34m=\u001b[0m \u001b[0mga\u001b[0m\u001b[0;34m.\u001b[0m\u001b[0mcal_pop_fitness\u001b[0m\u001b[0;34m(\u001b[0m\u001b[0mequation_inputs\u001b[0m\u001b[0;34m,\u001b[0m \u001b[0mnew_population\u001b[0m\u001b[0;34m)\u001b[0m\u001b[0;34m\u001b[0m\u001b[0;34m\u001b[0m\u001b[0m\n\u001b[0m\u001b[1;32m     31\u001b[0m \u001b[0;31m# Then return the index of that solution corresponding to the best fitness.\u001b[0m\u001b[0;34m\u001b[0m\u001b[0;34m\u001b[0m\u001b[0;34m\u001b[0m\u001b[0m\n\u001b[1;32m     32\u001b[0m \u001b[0mbest_match_idx\u001b[0m \u001b[0;34m=\u001b[0m \u001b[0mnumpy\u001b[0m\u001b[0;34m.\u001b[0m\u001b[0mwhere\u001b[0m\u001b[0;34m(\u001b[0m\u001b[0mfitness\u001b[0m \u001b[0;34m==\u001b[0m \u001b[0mnumpy\u001b[0m\u001b[0;34m.\u001b[0m\u001b[0mmax\u001b[0m\u001b[0;34m(\u001b[0m\u001b[0mfitness\u001b[0m\u001b[0;34m)\u001b[0m\u001b[0;34m)\u001b[0m\u001b[0;34m\u001b[0m\u001b[0;34m\u001b[0m\u001b[0m\n",
      "\u001b[0;31mNameError\u001b[0m: name 'ga' is not defined"
     ]
    }
   ],
   "source": [
    "num_generations = 1000\n",
    "\n",
    "num_parents_mating = 4\n",
    "\n",
    "fitness = np.empty(new_population.shape[0])\n",
    "\n",
    "for generation in range(num_generations):\n",
    "     # Measuring the fitness of each chromosome in the population.\n",
    "        \n",
    "    for i in range(len(new_population)):\n",
    "        fitness[i] = cal_pop_fitness(YY1, XX1, new_population[i])\n",
    "\n",
    "    # Selecting the best parents in the population for mating.\n",
    "    \n",
    "    parents = select_mating_pool(new_population, fitness, \n",
    "                                       num_parents_mating)\n",
    " \n",
    "     # Generating next generation using crossover.\n",
    "    offspring_crossover = crossover(parents,\n",
    "                                        offspring_size=(pop_size[0]-parents.shape[0], weights_size))\n",
    " \n",
    "     # Adding some variations to the offsrping using mutation.\n",
    "    offspring_mutation = mutation(offspring_crossover)\n",
    "# Creating the new population based on the parents and offspring.\n",
    "    new_population[0:parents.shape[0], :] = parents\n",
    "    new_population[parents.shape[0]:, :] = offspring_mutation\n",
    "    \n",
    "# Getting the best solution after iterating finishing all generations.\n",
    "#At first, the fitness is calculated for each solution in the final generation.\n",
    "fitness = cal_pop_fitness(equation_inputs, new_population)\n",
    "# Then return the index of that solution corresponding to the best fitness.\n",
    "best_match_idx = np.where(fitness == numpy.max(fitness))\n",
    "\n",
    "print(\"Best solution : \", new_population[best_match_idx, :])\n",
    "print(\"Best solution fitness : \", fitness[best_match_idx])\n",
    "\n",
    "import matplotlib.pyplot\n",
    "matplotlib.pyplot.plot(best_outputs)\n",
    "matplotlib.pyplot.xlabel(\"Iteration\")\n",
    "matplotlib.pyplot.ylabel(\"Fitness\")\n",
    "matplotlib.pyplot.show()"
   ]
  },
  {
   "cell_type": "code",
   "execution_count": null,
   "metadata": {},
   "outputs": [],
   "source": []
  }
 ],
 "metadata": {
  "kernelspec": {
   "display_name": "Python 3",
   "language": "python",
   "name": "python3"
  },
  "language_info": {
   "codemirror_mode": {
    "name": "ipython",
    "version": 3
   },
   "file_extension": ".py",
   "mimetype": "text/x-python",
   "name": "python",
   "nbconvert_exporter": "python",
   "pygments_lexer": "ipython3",
   "version": "3.8.5"
  }
 },
 "nbformat": 4,
 "nbformat_minor": 4
}
