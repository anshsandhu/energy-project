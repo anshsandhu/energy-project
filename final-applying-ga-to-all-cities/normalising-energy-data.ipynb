{
 "cells": [
  {
   "cell_type": "markdown",
   "metadata": {},
   "source": [
    "References:\n",
    "\n",
    "1. Solar cost per kW: https://news.energysage.com/how-much-does-the-average-solar-panel-installation-cost-in-the-u-s/\n",
    "\n",
    "2. Wind cost per kW/MW: https://newscenter.lbl.gov/2019/08/26/report-confirms-wind-technology-advancements-continue-to-drive-down-the-cost-of-wind-energy/"
   ]
  },
  {
   "cell_type": "code",
   "execution_count": 1,
   "metadata": {},
   "outputs": [],
   "source": [
    "import pandas as pd\n",
    "import numpy as np"
   ]
  },
  {
   "cell_type": "code",
   "execution_count": 2,
   "metadata": {},
   "outputs": [],
   "source": [
    "wind_mw_cost = 1750000 # $1.75 mil per MW\n",
    "wind_kw_cost = 6000 # $6000/kw for turbines <~ 100 kW\n",
    "\n",
    "# for simplicity, we are only considering 5 kW systems:\n",
    "\n",
    "solar_kw_cost = 10,952 # $/kw for a 5 kW system"
   ]
  },
  {
   "cell_type": "code",
   "execution_count": null,
   "metadata": {},
   "outputs": [],
   "source": []
  }
 ],
 "metadata": {
  "kernelspec": {
   "display_name": "Python 3",
   "language": "python",
   "name": "python3"
  },
  "language_info": {
   "codemirror_mode": {
    "name": "ipython",
    "version": 3
   },
   "file_extension": ".py",
   "mimetype": "text/x-python",
   "name": "python",
   "nbconvert_exporter": "python",
   "pygments_lexer": "ipython3",
   "version": "3.8.5"
  }
 },
 "nbformat": 4,
 "nbformat_minor": 4
}
