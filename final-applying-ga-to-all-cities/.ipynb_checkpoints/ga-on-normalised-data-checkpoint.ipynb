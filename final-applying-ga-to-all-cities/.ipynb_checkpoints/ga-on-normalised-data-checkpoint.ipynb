{
 "cells": [
  {
   "cell_type": "code",
   "execution_count": 1,
   "metadata": {},
   "outputs": [],
   "source": [
    "import numpy as np\n",
    "import pandas as pd"
   ]
  },
  {
   "cell_type": "code",
   "execution_count": 2,
   "metadata": {},
   "outputs": [],
   "source": [
    "X = pd.read_csv('df_input_to_ga.csv')\n",
    "target = pd.read_csv('../cleaned-data-frames/target-electricity-consumption.csv')"
   ]
  },
  {
   "cell_type": "code",
   "execution_count": 3,
   "metadata": {},
   "outputs": [],
   "source": [
    "# making the lengths the same\n",
    "\n",
    "X = X.iloc[0:7560,:]"
   ]
  },
  {
   "cell_type": "code",
   "execution_count": 4,
   "metadata": {},
   "outputs": [],
   "source": [
    "def clean_dataset(df):\n",
    "    assert isinstance(df, pd.DataFrame), \"df needs to be a pd.DataFrame\"\n",
    "    df.dropna(inplace=True)\n",
    "    indices_to_keep = ~df.isin([np.nan, np.inf, -np.inf]).any(1)\n",
    "    return df[indices_to_keep].astype(np.float64)\n",
    "\n",
    "X = clean_dataset(X)\n",
    "target = clean_dataset(target)"
   ]
  },
  {
   "cell_type": "code",
   "execution_count": 5,
   "metadata": {},
   "outputs": [],
   "source": [
    "X = X.drop(columns = 'Unnamed: 0')"
   ]
  },
  {
   "cell_type": "code",
   "execution_count": 6,
   "metadata": {},
   "outputs": [],
   "source": [
    "target_vector = target['Consumption']\n",
    "input = X"
   ]
  },
  {
   "cell_type": "code",
   "execution_count": 7,
   "metadata": {},
   "outputs": [
    {
     "data": {
      "text/plain": [
       "0.0"
      ]
     },
     "execution_count": 7,
     "metadata": {},
     "output_type": "execute_result"
    }
   ],
   "source": [
    "# recognising the solution space for this data:\n",
    "\n",
    "magnitude_of_consumption_values = np.min(target['Consumption'])\n",
    "\n",
    "magnitude_of_consumption_values"
   ]
  },
  {
   "cell_type": "code",
   "execution_count": 8,
   "metadata": {},
   "outputs": [],
   "source": [
    "y = X*10000000"
   ]
  },
  {
   "cell_type": "code",
   "execution_count": 9,
   "metadata": {},
   "outputs": [],
   "source": [
    "weights_size = len(input.iloc[0])\n",
    "solutions_per_problem = 100\n",
    "\n",
    "pop_size = (solutions_per_problem, weights_size)\n",
    "new_population = np.random.randint(low = 1, high= 50, size = pop_size)\n",
    "\n",
    "pop_original = new_population"
   ]
  },
  {
   "cell_type": "code",
   "execution_count": 10,
   "metadata": {},
   "outputs": [],
   "source": [
    "min_values = []\n",
    "max_values = []\n",
    "\n",
    "min = 500/y.iloc[13,:]\n",
    "\n",
    "min_values.append(min)\n",
    "\n",
    "max = 15000/y.iloc[13,:]\n",
    "max_values.append(max)"
   ]
  },
  {
   "cell_type": "code",
   "execution_count": 11,
   "metadata": {},
   "outputs": [
    {
     "data": {
      "text/plain": [
       "[AWT26_Power(albany)                  0.853449\n",
       " AWP_200_Power(albany)                0.811716\n",
       " D2CF_200_Power(albany)               0.500952\n",
       " AN_Bonus_150/30_Power(albany)        0.510582\n",
       " Aria_20_Power(albany)                7.385547\n",
       " WWD-1_D64_Power(albany)              0.127686\n",
       " Solar_AllMax(albany)                 0.370261\n",
       " Solar_TrinaSolar(albany)             0.370261\n",
       " Solar_Mitsubishi(albany)             0.371088\n",
       " Solar_FirstSolar(albany)             0.370747\n",
       " AWT26_Power(buffalo)                 0.492626\n",
       " AWP_200_Power(buffalo)               0.585086\n",
       " D2CF_200_Power(buffalo)              0.344386\n",
       " AN_Bonus_150/30_Power(buffalo)       0.381282\n",
       " Aria_20_Power(buffalo)               5.456540\n",
       " WWD-1_D64_Power(buffalo)             0.089996\n",
       " AWT26_Power(binghamton)              0.853449\n",
       " AWP_200_Power(binghamton)            0.811716\n",
       " D2CF_200_Power(binghamton)           0.500952\n",
       " AN_Bonus_150/30_Power(binghamton)    0.510582\n",
       " Aria_20_Power(binghamton)            7.385547\n",
       " WWD-1_D64_Power(binghamton)          0.127686\n",
       " AWT26_Power(rochester)               0.675066\n",
       " AWP_200_Power(rochester)             0.705930\n",
       " D2CF_200_Power(rochester)            0.425665\n",
       " AN_Bonus_150/30_Power(rochester)     0.449396\n",
       " Aria_20_Power(rochester)             6.528130\n",
       " WWD-1_D64_Power(rochester)           0.109098\n",
       " AWT26_Power(nyc)                     0.511918\n",
       " AWP_200_Power(nyc)                   0.599530\n",
       " D2CF_200_Power(nyc)                  0.352815\n",
       " AN_Bonus_150/30_Power(nyc)           0.389055\n",
       " Aria_20_Power(nyc)                   5.581596\n",
       " WWD-1_D64_Power(nyc)                 0.091897\n",
       " Name: 13, dtype: float64]"
      ]
     },
     "execution_count": 11,
     "metadata": {},
     "output_type": "execute_result"
    }
   ],
   "source": [
    "min_values"
   ]
  },
  {
   "cell_type": "code",
   "execution_count": 12,
   "metadata": {},
   "outputs": [
    {
     "data": {
      "text/plain": [
       "[AWT26_Power(albany)                   25.603483\n",
       " AWP_200_Power(albany)                 24.351488\n",
       " D2CF_200_Power(albany)                15.028549\n",
       " AN_Bonus_150/30_Power(albany)         15.317453\n",
       " Aria_20_Power(albany)                221.566406\n",
       " WWD-1_D64_Power(albany)                3.830584\n",
       " Solar_AllMax(albany)                  11.107825\n",
       " Solar_TrinaSolar(albany)              11.107825\n",
       " Solar_Mitsubishi(albany)              11.132629\n",
       " Solar_FirstSolar(albany)              11.122402\n",
       " AWT26_Power(buffalo)                  14.778787\n",
       " AWP_200_Power(buffalo)                17.552568\n",
       " D2CF_200_Power(buffalo)               10.331582\n",
       " AN_Bonus_150/30_Power(buffalo)        11.438469\n",
       " Aria_20_Power(buffalo)               163.696205\n",
       " WWD-1_D64_Power(buffalo)               2.699871\n",
       " AWT26_Power(binghamton)               25.603483\n",
       " AWP_200_Power(binghamton)             24.351488\n",
       " D2CF_200_Power(binghamton)            15.028549\n",
       " AN_Bonus_150/30_Power(binghamton)     15.317453\n",
       " Aria_20_Power(binghamton)            221.566406\n",
       " WWD-1_D64_Power(binghamton)            3.830584\n",
       " AWT26_Power(rochester)                20.251991\n",
       " AWP_200_Power(rochester)              21.177894\n",
       " D2CF_200_Power(rochester)             12.769947\n",
       " AN_Bonus_150/30_Power(rochester)      13.481867\n",
       " Aria_20_Power(rochester)             195.843894\n",
       " WWD-1_D64_Power(rochester)             3.272930\n",
       " AWT26_Power(nyc)                      15.357540\n",
       " AWP_200_Power(nyc)                    17.985894\n",
       " D2CF_200_Power(nyc)                   10.584437\n",
       " AN_Bonus_150/30_Power(nyc)            11.671640\n",
       " Aria_20_Power(nyc)                   167.447885\n",
       " WWD-1_D64_Power(nyc)                   2.756925\n",
       " Name: 13, dtype: float64]"
      ]
     },
     "execution_count": 12,
     "metadata": {},
     "output_type": "execute_result"
    }
   ],
   "source": [
    "max_values"
   ]
  }
 ],
 "metadata": {
  "kernelspec": {
   "display_name": "Python 3",
   "language": "python",
   "name": "python3"
  },
  "language_info": {
   "codemirror_mode": {
    "name": "ipython",
    "version": 3
   },
   "file_extension": ".py",
   "mimetype": "text/x-python",
   "name": "python",
   "nbconvert_exporter": "python",
   "pygments_lexer": "ipython3",
   "version": "3.8.5"
  }
 },
 "nbformat": 4,
 "nbformat_minor": 4
}
